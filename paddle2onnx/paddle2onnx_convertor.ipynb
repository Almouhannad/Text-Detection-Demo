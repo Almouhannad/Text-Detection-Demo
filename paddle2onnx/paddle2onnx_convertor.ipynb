{
  "cells": [
    {
      "cell_type": "markdown",
      "metadata": {
        "id": "IDCagJwxfUfb"
      },
      "source": [
        "- It's recommended to run this notebook in colab T4 GPU runtime"
      ]
    },
    {
      "cell_type": "markdown",
      "metadata": {
        "id": "VaRRewZjelzb"
      },
      "source": [
        "# 1. Prepare environment"
      ]
    },
    {
      "cell_type": "code",
      "execution_count": null,
      "metadata": {
        "colab": {
          "base_uri": "https://localhost:8080/"
        },
        "id": "sTLpQXvHWBHV",
        "outputId": "3c6bb866-e074-436a-cfc9-2d7359eaedb4"
      },
      "outputs": [],
      "source": [
        "!pip install onnxruntime==1.22.0\n",
        "!pip install paddlepaddle-gpu\n",
        "!pip install paddle2onnx==1.0.8"
      ]
    },
    {
      "cell_type": "markdown",
      "metadata": {
        "id": "fH96msLKesFq"
      },
      "source": [
        "## 1.1 Verify successful installation"
      ]
    },
    {
      "cell_type": "code",
      "execution_count": 2,
      "metadata": {
        "colab": {
          "base_uri": "https://localhost:8080/"
        },
        "id": "JBpwWdRuWVbj",
        "outputId": "e0290245-a69c-4912-86ff-50d221d8df10"
      },
      "outputs": [
        {
          "name": "stdout",
          "output_type": "stream",
          "text": [
            "paddle: 2.6.2\n",
            "paddle2onnx: 1.0.8\n"
          ]
        }
      ],
      "source": [
        "import paddle, paddle2onnx\n",
        "print('paddle:', paddle.__version__)\n",
        "print('paddle2onnx:', paddle2onnx.__version__)"
      ]
    },
    {
      "cell_type": "markdown",
      "metadata": {
        "id": "Bc3iocvSexez"
      },
      "source": [
        "# 2. Download Paddle model"
      ]
    },
    {
      "cell_type": "code",
      "execution_count": 3,
      "metadata": {
        "colab": {
          "base_uri": "https://localhost:8080/"
        },
        "id": "_9LCxQSI9JIn",
        "outputId": "376648d6-18ea-49be-b884-a0b699cd4913"
      },
      "outputs": [
        {
          "name": "stdout",
          "output_type": "stream",
          "text": [
            "--2025-05-17 23:03:16--  https://paddleocr.bj.bcebos.com/PP-OCRv3/multilingual/Multilingual_PP-OCRv3_det_infer.tar\n",
            "Resolving paddleocr.bj.bcebos.com (paddleocr.bj.bcebos.com)... 103.235.47.176, 2402:2b40:7000:628:0:ff:b0e8:88da\n",
            "Connecting to paddleocr.bj.bcebos.com (paddleocr.bj.bcebos.com)|103.235.47.176|:443... connected.\n",
            "HTTP request sent, awaiting response... 200 OK\n",
            "Length: 3852288 (3.7M) [application/x-tar]\n",
            "Saving to: ‘multi_det.tar’\n",
            "\n",
            "multi_det.tar       100%[===================>]   3.67M   870KB/s    in 15s     \n",
            "\n",
            "2025-05-17 23:03:33 (245 KB/s) - ‘multi_det.tar’ saved [3852288/3852288]\n",
            "\n"
          ]
        }
      ],
      "source": [
        "!wget -O multi_det.tar \\\n",
        "  https://paddleocr.bj.bcebos.com/PP-OCRv3/multilingual/Multilingual_PP-OCRv3_det_infer.tar\n"
      ]
    },
    {
      "cell_type": "markdown",
      "metadata": {
        "id": "ElrrSgO_e6g6"
      },
      "source": [
        "## 2.1 Unzip model"
      ]
    },
    {
      "cell_type": "code",
      "execution_count": 4,
      "metadata": {
        "id": "JOPZUrqr9Tu5"
      },
      "outputs": [],
      "source": [
        "!tar -xf multi_det.tar"
      ]
    },
    {
      "cell_type": "markdown",
      "metadata": {
        "id": "Ak9BKjg1fFjx"
      },
      "source": [
        "# 3. Convert to `.onnx`"
      ]
    },
    {
      "cell_type": "code",
      "execution_count": 5,
      "metadata": {
        "colab": {
          "base_uri": "https://localhost:8080/"
        },
        "id": "utheP6fR9YU9",
        "outputId": "81c9a39f-7456-4df9-e7f4-8d50368a992e"
      },
      "outputs": [
        {
          "name": "stdout",
          "output_type": "stream",
          "text": [
            "[Paddle2ONNX] Start to parse PaddlePaddle model...\n",
            "[Paddle2ONNX] Model file path: Multilingual_PP-OCRv3_det_infer/inference.pdmodel\n",
            "[Paddle2ONNX] Paramters file path: Multilingual_PP-OCRv3_det_infer/inference.pdiparams\n",
            "[Paddle2ONNX] Start to parsing Paddle model...\n",
            "[Paddle2ONNX] Use opset_version = 13 for ONNX export.\n",
            "[Paddle2ONNX] PaddlePaddle model is exported as ONNX format now.\n",
            "2025-05-17 23:04:36 [INFO]\t===============Make PaddlePaddle Better!================\n",
            "2025-05-17 23:04:36 [INFO]\tA little survey: https://iwenjuan.baidu.com/?code=r8hu2s\n"
          ]
        }
      ],
      "source": [
        "!paddle2onnx \\\n",
        "  --model_dir Multilingual_PP-OCRv3_det_infer \\\n",
        "  --model_filename inference.pdmodel \\\n",
        "  --params_filename inference.pdiparams \\\n",
        "  --save_file ml_PP-OCRv3_det.onnx \\\n",
        "  --opset_version 13"
      ]
    }
  ],
  "metadata": {
    "accelerator": "GPU",
    "colab": {
      "gpuType": "T4",
      "provenance": []
    },
    "kernelspec": {
      "display_name": "Python 3",
      "name": "python3"
    },
    "language_info": {
      "name": "python"
    }
  },
  "nbformat": 4,
  "nbformat_minor": 0
}
